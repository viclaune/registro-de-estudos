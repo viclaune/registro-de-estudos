{
 "cells": [
  {
   "cell_type": "code",
   "execution_count": 2,
   "id": "9fb415e7-effd-4561-b520-c040b6ab3ebf",
   "metadata": {
    "scrolled": true,
    "tags": []
   },
   "outputs": [
    {
     "name": "stdout",
     "output_type": "stream",
     "text": [
      "Defaulting to user installation because normal site-packages is not writeable\n",
      "Requirement already satisfied: tweepy in /home/victorlaune/.local/lib/python3.10/site-packages (4.10.0)\n",
      "Requirement already satisfied: datetime in /home/victorlaune/.local/lib/python3.10/site-packages (4.4)\n",
      "Requirement already satisfied: requests-oauthlib<2,>=1.2.0 in /home/victorlaune/.local/lib/python3.10/site-packages (from tweepy) (1.3.1)\n",
      "Requirement already satisfied: requests<3,>=2.27.0 in /home/victorlaune/.local/lib/python3.10/site-packages (from tweepy) (2.28.0)\n",
      "Requirement already satisfied: oauthlib<4,>=3.2.0 in /usr/lib/python3/dist-packages (from tweepy) (3.2.0)\n",
      "Requirement already satisfied: pytz in /usr/lib/python3/dist-packages (from datetime) (2022.1)\n",
      "Requirement already satisfied: zope.interface in /home/victorlaune/.local/lib/python3.10/site-packages (from datetime) (5.4.0)\n",
      "Requirement already satisfied: certifi>=2017.4.17 in /usr/lib/python3/dist-packages (from requests<3,>=2.27.0->tweepy) (2020.6.20)\n",
      "Requirement already satisfied: urllib3<1.27,>=1.21.1 in /usr/lib/python3/dist-packages (from requests<3,>=2.27.0->tweepy) (1.26.5)\n",
      "Requirement already satisfied: charset-normalizer~=2.0.0 in /home/victorlaune/.local/lib/python3.10/site-packages (from requests<3,>=2.27.0->tweepy) (2.0.12)\n",
      "Requirement already satisfied: idna<4,>=2.5 in /usr/lib/python3/dist-packages (from requests<3,>=2.27.0->tweepy) (3.3)\n",
      "Requirement already satisfied: setuptools in /usr/lib/python3/dist-packages (from zope.interface->datetime) (59.6.0)\n"
     ]
    }
   ],
   "source": [
    "!pip install tweepy datetime"
   ]
  },
  {
   "cell_type": "markdown",
   "id": "0843f488-a136-48ab-8893-542a6d9815ed",
   "metadata": {},
   "source": [
    "# play!"
   ]
  },
  {
   "cell_type": "code",
   "execution_count": 14,
   "id": "33052f7b-9367-4e13-a643-dc34b8224b18",
   "metadata": {},
   "outputs": [
    {
     "name": "stdout",
     "output_type": "stream",
     "text": [
      "/bin/bash: line 1: python: command not found\n"
     ]
    }
   ],
   "source": [
    "!python get_tweets.py"
   ]
  },
  {
   "cell_type": "code",
   "execution_count": null,
   "id": "4f74ef79-ed30-47ab-8791-e5cd75acca60",
   "metadata": {},
   "outputs": [],
   "source": []
  }
 ],
 "metadata": {
  "kernelspec": {
   "display_name": "Python 3 (ipykernel)",
   "language": "python",
   "name": "python3"
  },
  "language_info": {
   "codemirror_mode": {
    "name": "ipython",
    "version": 3
   },
   "file_extension": ".py",
   "mimetype": "text/x-python",
   "name": "python",
   "nbconvert_exporter": "python",
   "pygments_lexer": "ipython3",
   "version": "3.10.4"
  }
 },
 "nbformat": 4,
 "nbformat_minor": 5
}
