{
 "cells": [
  {
   "cell_type": "code",
   "execution_count": 2,
   "id": "b838adf6",
   "metadata": {},
   "outputs": [],
   "source": [
    "# Importando pacotes\n",
    "import tweepy"
   ]
  },
  {
   "cell_type": "code",
   "execution_count": 4,
   "id": "8f22fdab",
   "metadata": {},
   "outputs": [],
   "source": [
    "# Credenciais para utilização da API do Twitter\n",
    "\n",
    "API_Key = \"*\"\n",
    "API_secret_key = \"*\"\n",
    "access_token = \"*\"\n",
    "access_token_secret = \"*\""
   ]
  },
  {
   "cell_type": "code",
   "execution_count": 9,
   "id": "c9755600",
   "metadata": {},
   "outputs": [],
   "source": [
    "# realizar autenticação no Twitter\n",
    "auth = tweepy.OAuthHandler(API_Key, API_secret_key)\n",
    "auth.set_access_token(access_token, access_token_secret)\n",
    "\n",
    "# Construir uma instância da API\n",
    "api = tweepy.API(auth)"
   ]
  },
  {
   "cell_type": "markdown",
   "id": "08ce8c7c",
   "metadata": {},
   "source": [
    "Criamos a variável api que é uma instância/token já autenticado no twitter. Neste caso, o token usará as configurações padrões para busca de tweets."
   ]
  },
  {
   "cell_type": "code",
   "execution_count": 12,
   "id": "54993a39",
   "metadata": {},
   "outputs": [],
   "source": [
    "# Realizar a busca por palavra chave.\n",
    "\n",
    "keyword = (\"pantanal\")"
   ]
  },
  {
   "cell_type": "code",
   "execution_count": 13,
   "id": "073abf32",
   "metadata": {},
   "outputs": [],
   "source": [
    "# Define lista de armazenamento\n",
    "tweets = []   # apenas tweet text\n",
    "info = []     # todo o resultado da busca (JSON)"
   ]
  },
  {
   "cell_type": "code",
   "execution_count": 14,
   "id": "d1e5187e",
   "metadata": {},
   "outputs": [
    {
     "ename": "TypeError",
     "evalue": "API.__init__() got an unexpected keyword argument 'wait_on_rate_limit_notify'",
     "output_type": "error",
     "traceback": [
      "\u001b[0;31m---------------------------------------------------------------------------\u001b[0m",
      "\u001b[0;31mTypeError\u001b[0m                                 Traceback (most recent call last)",
      "Input \u001b[0;32mIn [14]\u001b[0m, in \u001b[0;36m<cell line: 1>\u001b[0;34m()\u001b[0m\n\u001b[0;32m----> 1\u001b[0m token \u001b[38;5;241m=\u001b[39m \u001b[43mtweepy\u001b[49m\u001b[38;5;241;43m.\u001b[39;49m\u001b[43mAPI\u001b[49m\u001b[43m(\u001b[49m\u001b[43mauth\u001b[49m\u001b[43m,\u001b[49m\u001b[43m \u001b[49m\u001b[43mwait_on_rate_limit\u001b[49m\u001b[38;5;241;43m=\u001b[39;49m\u001b[38;5;28;43;01mTrue\u001b[39;49;00m\u001b[43m,\u001b[49m\u001b[43m \u001b[49m\u001b[43mwait_on_rate_limit_notify\u001b[49m\u001b[38;5;241;43m=\u001b[39;49m\u001b[38;5;28;43;01mTrue\u001b[39;49;00m\u001b[43m)\u001b[49m\n",
      "\u001b[0;31mTypeError\u001b[0m: API.__init__() got an unexpected keyword argument 'wait_on_rate_limit_notify'"
     ]
    }
   ],
   "source": [
    "token = tweepy.API(auth, wait_on_rate_limit=True, wait_on_rate_limit_notify=True)"
   ]
  },
  {
   "cell_type": "code",
   "execution_count": null,
   "id": "cec07176",
   "metadata": {},
   "outputs": [],
   "source": []
  }
 ],
 "metadata": {
  "kernelspec": {
   "display_name": "Python 3 (ipykernel)",
   "language": "python",
   "name": "python3"
  },
  "language_info": {
   "codemirror_mode": {
    "name": "ipython",
    "version": 3
   },
   "file_extension": ".py",
   "mimetype": "text/x-python",
   "name": "python",
   "nbconvert_exporter": "python",
   "pygments_lexer": "ipython3",
   "version": "3.10.4"
  }
 },
 "nbformat": 4,
 "nbformat_minor": 5
}
