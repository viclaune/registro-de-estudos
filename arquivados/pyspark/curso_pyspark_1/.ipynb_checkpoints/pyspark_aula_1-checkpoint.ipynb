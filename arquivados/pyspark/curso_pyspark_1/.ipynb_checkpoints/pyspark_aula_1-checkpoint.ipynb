{
 "cells": [
  {
   "cell_type": "markdown",
   "metadata": {
    "application/vnd.databricks.v1+cell": {
     "inputWidgets": {},
     "nuid": "84fda25e-fb8c-49e1-a59c-a32087fee75b",
     "showTitle": false,
     "title": ""
    }
   },
   "source": [
    "# Introducao ao Apache Spark\n",
    "* O que é?\n",
    "  * Eh uma ferramenta de Big Data que tem o objetivo de processar grandes conjuntos de dados de forma paralela e distribuida.\n",
    "* Por que ficou tao popular?\n",
    "  * Estende o modelo de programacao MapReduce popularizado pelo Apache Hadoop, facilitando bastante o desenvolvimento de aplicacoes de processamento de grandes volumes de dados.\n",
    "  * Permite a programacao em quatro linguagens: Java, Scala, R e Python. **Iremos utilizar o Python (Pyspark)**\n",
    "\n",
    "# Databricks\n",
    "* O que eh? \n",
    "  * Eh uma plataforma de analise baseada no Apache Spark e foi projetado por fundadores do Spark!\n",
    "  * Por que ficou tao popular?\n",
    "    * Fluxos de trabalhos simplificados e um workspace interativo que permite a colaboracao entre os cientistas de dados, os engenheiros de dados e os analistas de negocios;"
   ]
  },
  {
   "cell_type": "markdown",
   "metadata": {
    "application/vnd.databricks.v1+cell": {
     "inputWidgets": {},
     "nuid": "cdf5981a-6f5d-42c9-95f6-eaf5d2aa0a9f",
     "showTitle": false,
     "title": ""
    }
   },
   "source": [
    "# Iniciando com PySpark\n",
    "* Para quem já conhece dataframes do pandas e com SQL, será bastante similar."
   ]
  },
  {
   "cell_type": "code",
   "execution_count": 0,
   "metadata": {
    "application/vnd.databricks.v1+cell": {
     "inputWidgets": {},
     "nuid": "6078c7e9-2cd4-404f-9319-38618ee879fa",
     "showTitle": false,
     "title": ""
    }
   },
   "outputs": [
    {
     "data": {
      "text/plain": [
       "+-------------------+--------------------+-------------+-------------+------------------+-------------+\n",
       "|           DateTime|meta_para_a_inflacao|IPCA_ocorrido|limite_maximo|focus_mais_recente|limite_minimo|\n",
       "+-------------------+--------------------+-------------+-------------+------------------+-------------+\n",
       "|2012-07-01 00:00:00|                 4.5|          5.2|          6.5|              null|          2.5|\n",
       "|2012-08-01 00:00:00|                 4.5|         5.24|          6.5|              null|          2.5|\n",
       "|2012-09-01 00:00:00|                 4.5|         5.28|          6.5|              null|          2.5|\n",
       "|2012-10-01 00:00:00|                 4.5|         5.45|          6.5|              null|          2.5|\n",
       "|2012-11-01 00:00:00|                 4.5|         5.53|          6.5|              null|          2.5|\n",
       "|2012-12-01 00:00:00|                 4.5|         5.84|          6.5|              null|          2.5|\n",
       "|2013-01-01 00:00:00|                 4.5|         6.15|          6.5|              null|          2.5|\n",
       "|2013-02-01 00:00:00|                 4.5|         6.31|          6.5|              null|          2.5|\n",
       "|2013-03-01 00:00:00|                 4.5|         6.59|          6.5|              null|          2.5|\n",
       "|2013-04-01 00:00:00|                 4.5|         6.49|          6.5|              null|          2.5|\n",
       "|2013-05-01 00:00:00|                 4.5|          6.5|          6.5|              null|          2.5|\n",
       "|2013-06-01 00:00:00|                 4.5|          6.7|          6.5|              null|          2.5|\n",
       "|2013-07-01 00:00:00|                 4.5|         6.27|          6.5|              null|          2.5|\n",
       "|2013-08-01 00:00:00|                 4.5|         6.09|          6.5|              null|          2.5|\n",
       "|2013-09-01 00:00:00|                 4.5|         5.86|          6.5|              null|          2.5|\n",
       "|2013-10-01 00:00:00|                 4.5|         5.84|          6.5|              null|          2.5|\n",
       "|2013-11-01 00:00:00|                 4.5|         5.77|          6.5|              null|          2.5|\n",
       "|2013-12-01 00:00:00|                 4.5|         5.91|          6.5|              null|          2.5|\n",
       "|2014-01-01 00:00:00|                 4.5|         5.59|          6.5|              null|          2.5|\n",
       "|2014-02-01 00:00:00|                 4.5|         5.68|          6.5|              null|          2.5|\n",
       "+-------------------+--------------------+-------------+-------------+------------------+-------------+\n",
       "only showing top 20 rows\n",
       "\n"
      ]
     },
     "metadata": {
      "application/vnd.databricks.v1+output": {
       "addedWidgets": {},
       "arguments": {},
       "data": "+-------------------+--------------------+-------------+-------------+------------------+-------------+\n|           DateTime|meta_para_a_inflacao|IPCA_ocorrido|limite_maximo|focus_mais_recente|limite_minimo|\n+-------------------+--------------------+-------------+-------------+------------------+-------------+\n|2012-07-01 00:00:00|                 4.5|          5.2|          6.5|              null|          2.5|\n|2012-08-01 00:00:00|                 4.5|         5.24|          6.5|              null|          2.5|\n|2012-09-01 00:00:00|                 4.5|         5.28|          6.5|              null|          2.5|\n|2012-10-01 00:00:00|                 4.5|         5.45|          6.5|              null|          2.5|\n|2012-11-01 00:00:00|                 4.5|         5.53|          6.5|              null|          2.5|\n|2012-12-01 00:00:00|                 4.5|         5.84|          6.5|              null|          2.5|\n|2013-01-01 00:00:00|                 4.5|         6.15|          6.5|              null|          2.5|\n|2013-02-01 00:00:00|                 4.5|         6.31|          6.5|              null|          2.5|\n|2013-03-01 00:00:00|                 4.5|         6.59|          6.5|              null|          2.5|\n|2013-04-01 00:00:00|                 4.5|         6.49|          6.5|              null|          2.5|\n|2013-05-01 00:00:00|                 4.5|          6.5|          6.5|              null|          2.5|\n|2013-06-01 00:00:00|                 4.5|          6.7|          6.5|              null|          2.5|\n|2013-07-01 00:00:00|                 4.5|         6.27|          6.5|              null|          2.5|\n|2013-08-01 00:00:00|                 4.5|         6.09|          6.5|              null|          2.5|\n|2013-09-01 00:00:00|                 4.5|         5.86|          6.5|              null|          2.5|\n|2013-10-01 00:00:00|                 4.5|         5.84|          6.5|              null|          2.5|\n|2013-11-01 00:00:00|                 4.5|         5.77|          6.5|              null|          2.5|\n|2013-12-01 00:00:00|                 4.5|         5.91|          6.5|              null|          2.5|\n|2014-01-01 00:00:00|                 4.5|         5.59|          6.5|              null|          2.5|\n|2014-02-01 00:00:00|                 4.5|         5.68|          6.5|              null|          2.5|\n+-------------------+--------------------+-------------+-------------+------------------+-------------+\nonly showing top 20 rows\n\n",
       "datasetInfos": [],
       "metadata": {},
       "removedWidgets": [],
       "type": "ansi"
      }
     },
     "output_type": "display_data"
    }
   ],
   "source": [
    "import pandas as pd\n",
    "import numpy as np\n",
    "\n",
    "spark.table(\"ipca_csv\").show()"
   ]
  },
  {
   "cell_type": "markdown",
   "metadata": {
    "application/vnd.databricks.v1+cell": {
     "inputWidgets": {},
     "nuid": "febe4484-fb50-49c9-b64e-97aab4d5db44",
     "showTitle": false,
     "title": ""
    }
   },
   "source": [
    "### Carregando um dataframe:"
   ]
  },
  {
   "cell_type": "code",
   "execution_count": 0,
   "metadata": {
    "application/vnd.databricks.v1+cell": {
     "inputWidgets": {},
     "nuid": "0938c6da-311e-4983-ac7c-5c3b8c6f2514",
     "showTitle": false,
     "title": ""
    }
   },
   "outputs": [
    {
     "data": {
      "text/plain": [
       "+-------------------+--------------------+-------------+-------------+------------------+-------------+\n",
       "|           DateTime|meta_para_a_inflacao|IPCA_ocorrido|limite_maximo|focus_mais_recente|limite_minimo|\n",
       "+-------------------+--------------------+-------------+-------------+------------------+-------------+\n",
       "|2012-07-01 00:00:00|                 4.5|          5.2|          6.5|              null|          2.5|\n",
       "|2012-08-01 00:00:00|                 4.5|         5.24|          6.5|              null|          2.5|\n",
       "|2012-09-01 00:00:00|                 4.5|         5.28|          6.5|              null|          2.5|\n",
       "|2012-10-01 00:00:00|                 4.5|         5.45|          6.5|              null|          2.5|\n",
       "|2012-11-01 00:00:00|                 4.5|         5.53|          6.5|              null|          2.5|\n",
       "|2012-12-01 00:00:00|                 4.5|         5.84|          6.5|              null|          2.5|\n",
       "|2013-01-01 00:00:00|                 4.5|         6.15|          6.5|              null|          2.5|\n",
       "|2013-02-01 00:00:00|                 4.5|         6.31|          6.5|              null|          2.5|\n",
       "|2013-03-01 00:00:00|                 4.5|         6.59|          6.5|              null|          2.5|\n",
       "|2013-04-01 00:00:00|                 4.5|         6.49|          6.5|              null|          2.5|\n",
       "|2013-05-01 00:00:00|                 4.5|          6.5|          6.5|              null|          2.5|\n",
       "|2013-06-01 00:00:00|                 4.5|          6.7|          6.5|              null|          2.5|\n",
       "|2013-07-01 00:00:00|                 4.5|         6.27|          6.5|              null|          2.5|\n",
       "|2013-08-01 00:00:00|                 4.5|         6.09|          6.5|              null|          2.5|\n",
       "|2013-09-01 00:00:00|                 4.5|         5.86|          6.5|              null|          2.5|\n",
       "|2013-10-01 00:00:00|                 4.5|         5.84|          6.5|              null|          2.5|\n",
       "|2013-11-01 00:00:00|                 4.5|         5.77|          6.5|              null|          2.5|\n",
       "|2013-12-01 00:00:00|                 4.5|         5.91|          6.5|              null|          2.5|\n",
       "|2014-01-01 00:00:00|                 4.5|         5.59|          6.5|              null|          2.5|\n",
       "|2014-02-01 00:00:00|                 4.5|         5.68|          6.5|              null|          2.5|\n",
       "+-------------------+--------------------+-------------+-------------+------------------+-------------+\n",
       "only showing top 20 rows\n",
       "\n"
      ]
     },
     "metadata": {
      "application/vnd.databricks.v1+output": {
       "addedWidgets": {},
       "arguments": {},
       "data": "+-------------------+--------------------+-------------+-------------+------------------+-------------+\n|           DateTime|meta_para_a_inflacao|IPCA_ocorrido|limite_maximo|focus_mais_recente|limite_minimo|\n+-------------------+--------------------+-------------+-------------+------------------+-------------+\n|2012-07-01 00:00:00|                 4.5|          5.2|          6.5|              null|          2.5|\n|2012-08-01 00:00:00|                 4.5|         5.24|          6.5|              null|          2.5|\n|2012-09-01 00:00:00|                 4.5|         5.28|          6.5|              null|          2.5|\n|2012-10-01 00:00:00|                 4.5|         5.45|          6.5|              null|          2.5|\n|2012-11-01 00:00:00|                 4.5|         5.53|          6.5|              null|          2.5|\n|2012-12-01 00:00:00|                 4.5|         5.84|          6.5|              null|          2.5|\n|2013-01-01 00:00:00|                 4.5|         6.15|          6.5|              null|          2.5|\n|2013-02-01 00:00:00|                 4.5|         6.31|          6.5|              null|          2.5|\n|2013-03-01 00:00:00|                 4.5|         6.59|          6.5|              null|          2.5|\n|2013-04-01 00:00:00|                 4.5|         6.49|          6.5|              null|          2.5|\n|2013-05-01 00:00:00|                 4.5|          6.5|          6.5|              null|          2.5|\n|2013-06-01 00:00:00|                 4.5|          6.7|          6.5|              null|          2.5|\n|2013-07-01 00:00:00|                 4.5|         6.27|          6.5|              null|          2.5|\n|2013-08-01 00:00:00|                 4.5|         6.09|          6.5|              null|          2.5|\n|2013-09-01 00:00:00|                 4.5|         5.86|          6.5|              null|          2.5|\n|2013-10-01 00:00:00|                 4.5|         5.84|          6.5|              null|          2.5|\n|2013-11-01 00:00:00|                 4.5|         5.77|          6.5|              null|          2.5|\n|2013-12-01 00:00:00|                 4.5|         5.91|          6.5|              null|          2.5|\n|2014-01-01 00:00:00|                 4.5|         5.59|          6.5|              null|          2.5|\n|2014-02-01 00:00:00|                 4.5|         5.68|          6.5|              null|          2.5|\n+-------------------+--------------------+-------------+-------------+------------------+-------------+\nonly showing top 20 rows\n\n",
       "datasetInfos": [],
       "metadata": {},
       "removedWidgets": [],
       "type": "ansi"
      }
     },
     "output_type": "display_data"
    }
   ],
   "source": [
    "df = spark.table(\"ipca_csv\")\n",
    "df.show()"
   ]
  },
  {
   "cell_type": "markdown",
   "metadata": {
    "application/vnd.databricks.v1+cell": {
     "inputWidgets": {},
     "nuid": "d8dff341-8ce0-413a-a206-743f6c9fe921",
     "showTitle": false,
     "title": ""
    }
   },
   "source": [
    "### Alguns metodos e funcoes:\n",
    "\n",
    "`.printSchema()`: Vai mostrar o tipo dos nossos dados carregados.\n",
    "\n",
    "`.columns`: Apresenta o nome das colunas.\n",
    "\n",
    "`.describe()`: Faz um resumo igual ao describe() do pandas, com minino, maximo, media...\n",
    "\n",
    "`.describe().show()`: O `.show()` vai fazer a apresentacao do resultado.\n",
    "\n",
    "`.select()`: Seleciona colunas, onde o nome das coluna deve ser passado dentro dos parenteses."
   ]
  },
  {
   "cell_type": "code",
   "execution_count": 0,
   "metadata": {
    "application/vnd.databricks.v1+cell": {
     "inputWidgets": {},
     "nuid": "395e3f35-16b6-42ce-80ce-0ba4040a9b09",
     "showTitle": false,
     "title": ""
    }
   },
   "outputs": [
    {
     "data": {
      "text/plain": [
       "root\n",
       " |-- DateTime: timestamp (nullable = true)\n",
       " |-- meta_para_a_inflacao: double (nullable = true)\n",
       " |-- IPCA_ocorrido: double (nullable = true)\n",
       " |-- limite_maximo: double (nullable = true)\n",
       " |-- focus_mais_recente: double (nullable = true)\n",
       " |-- limite_minimo: double (nullable = true)\n",
       "\n",
       "************************************************ \n",
       "\n",
       "Out[15]: ['DateTime',\n",
       " 'meta_para_a_inflacao',\n",
       " 'IPCA_ocorrido',\n",
       " 'limite_maximo',\n",
       " 'focus_mais_recente',\n",
       " 'limite_minimo']"
      ]
     },
     "metadata": {
      "application/vnd.databricks.v1+output": {
       "addedWidgets": {},
       "arguments": {},
       "data": "root\n |-- DateTime: timestamp (nullable = true)\n |-- meta_para_a_inflacao: double (nullable = true)\n |-- IPCA_ocorrido: double (nullable = true)\n |-- limite_maximo: double (nullable = true)\n |-- focus_mais_recente: double (nullable = true)\n |-- limite_minimo: double (nullable = true)\n\n************************************************ \n\nOut[15]: ['DateTime',\n 'meta_para_a_inflacao',\n 'IPCA_ocorrido',\n 'limite_maximo',\n 'focus_mais_recente',\n 'limite_minimo']",
       "datasetInfos": [],
       "metadata": {},
       "removedWidgets": [],
       "type": "ansi"
      }
     },
     "output_type": "display_data"
    }
   ],
   "source": [
    "df.printSchema()\n",
    "print(\"************\" * 4, \"\\n\")\n",
    "df.columns"
   ]
  },
  {
   "cell_type": "code",
   "execution_count": 0,
   "metadata": {
    "application/vnd.databricks.v1+cell": {
     "inputWidgets": {},
     "nuid": "024078b8-70a4-451c-bd50-d7453cb24b1d",
     "showTitle": false,
     "title": ""
    }
   },
   "outputs": [
    {
     "data": {
      "text/plain": [
       "+-------+--------------------+------------------+------------------+------------------+------------------+\n",
       "|summary|meta_para_a_inflacao|     IPCA_ocorrido|     limite_maximo|focus_mais_recente|     limite_minimo|\n",
       "+-------+--------------------+------------------+------------------+------------------+------------------+\n",
       "|  count|                 150|               119|               150|                23|               150|\n",
       "|   mean|                4.08|6.0565546218487345|              5.76| 6.516956521739131|               2.4|\n",
       "| stddev|  0.5295939941669641|2.6401397744761224|0.7004792223468148| 2.594873328109256|0.4315571928936593|\n",
       "|    min|                 3.0|              1.88|               4.5|              3.75|               1.5|\n",
       "|    max|                 4.5|             12.13|               6.5|              11.6|               3.0|\n",
       "+-------+--------------------+------------------+------------------+------------------+------------------+\n",
       "\n"
      ]
     },
     "metadata": {
      "application/vnd.databricks.v1+output": {
       "addedWidgets": {},
       "arguments": {},
       "data": "+-------+--------------------+------------------+------------------+------------------+------------------+\n|summary|meta_para_a_inflacao|     IPCA_ocorrido|     limite_maximo|focus_mais_recente|     limite_minimo|\n+-------+--------------------+------------------+------------------+------------------+------------------+\n|  count|                 150|               119|               150|                23|               150|\n|   mean|                4.08|6.0565546218487345|              5.76| 6.516956521739131|               2.4|\n| stddev|  0.5295939941669641|2.6401397744761224|0.7004792223468148| 2.594873328109256|0.4315571928936593|\n|    min|                 3.0|              1.88|               4.5|              3.75|               1.5|\n|    max|                 4.5|             12.13|               6.5|              11.6|               3.0|\n+-------+--------------------+------------------+------------------+------------------+------------------+\n\n",
       "datasetInfos": [],
       "metadata": {},
       "removedWidgets": [],
       "type": "ansi"
      }
     },
     "output_type": "display_data"
    }
   ],
   "source": [
    "df.describe().show()"
   ]
  },
  {
   "cell_type": "code",
   "execution_count": 0,
   "metadata": {
    "application/vnd.databricks.v1+cell": {
     "inputWidgets": {},
     "nuid": "3578aec1-5b33-4c4f-9f8a-6ba1b54b2ac8",
     "showTitle": false,
     "title": ""
    }
   },
   "outputs": [
    {
     "data": {
      "text/plain": [
       "+-------------+\n",
       "|IPCA_ocorrido|\n",
       "+-------------+\n",
       "|          5.2|\n",
       "|         5.24|\n",
       "|         5.28|\n",
       "|         5.45|\n",
       "|         5.53|\n",
       "|         5.84|\n",
       "|         6.15|\n",
       "|         6.31|\n",
       "|         6.59|\n",
       "|         6.49|\n",
       "|          6.5|\n",
       "|          6.7|\n",
       "|         6.27|\n",
       "|         6.09|\n",
       "|         5.86|\n",
       "|         5.84|\n",
       "|         5.77|\n",
       "|         5.91|\n",
       "|         5.59|\n",
       "|         5.68|\n",
       "+-------------+\n",
       "only showing top 20 rows\n",
       "\n"
      ]
     },
     "metadata": {
      "application/vnd.databricks.v1+output": {
       "addedWidgets": {},
       "arguments": {},
       "data": "+-------------+\n|IPCA_ocorrido|\n+-------------+\n|          5.2|\n|         5.24|\n|         5.28|\n|         5.45|\n|         5.53|\n|         5.84|\n|         6.15|\n|         6.31|\n|         6.59|\n|         6.49|\n|          6.5|\n|          6.7|\n|         6.27|\n|         6.09|\n|         5.86|\n|         5.84|\n|         5.77|\n|         5.91|\n|         5.59|\n|         5.68|\n+-------------+\nonly showing top 20 rows\n\n",
       "datasetInfos": [],
       "metadata": {},
       "removedWidgets": [],
       "type": "ansi"
      }
     },
     "output_type": "display_data"
    }
   ],
   "source": [
    "df.select('IPCA_ocorrido').show()"
   ]
  },
  {
   "cell_type": "markdown",
   "metadata": {
    "application/vnd.databricks.v1+cell": {
     "inputWidgets": {},
     "nuid": "1ab7ab94-7ab5-4d10-8dc4-08f02602e5d7",
     "showTitle": false,
     "title": ""
    }
   },
   "source": [
    "### Como criar novas colunas?\n",
    "\n",
    "`.withColumn()`: Iremos entrar no nosso dataframe, escrever o `withColumn()`, passar o nome de uma coluna nova, e criar os valores desejados no argumento seguinte."
   ]
  },
  {
   "cell_type": "code",
   "execution_count": 0,
   "metadata": {
    "application/vnd.databricks.v1+cell": {
     "inputWidgets": {},
     "nuid": "c4888dce-1178-4dcb-bc23-50b135fbde63",
     "showTitle": false,
     "title": ""
    }
   },
   "outputs": [
    {
     "data": {
      "text/plain": [
       "+-------------------+--------------------+-------------+-------------+------------------+-------------+------------------------+\n",
       "|           DateTime|meta_para_a_inflacao|IPCA_ocorrido|limite_maximo|focus_mais_recente|limite_minimo|dif_meta_e_ipca_ocorrido|\n",
       "+-------------------+--------------------+-------------+-------------+------------------+-------------+------------------------+\n",
       "|2012-07-01 00:00:00|                 4.5|          5.2|          6.5|              null|          2.5|      0.7000000000000002|\n",
       "|2012-08-01 00:00:00|                 4.5|         5.24|          6.5|              null|          2.5|      0.7400000000000002|\n",
       "|2012-09-01 00:00:00|                 4.5|         5.28|          6.5|              null|          2.5|      0.7800000000000002|\n",
       "|2012-10-01 00:00:00|                 4.5|         5.45|          6.5|              null|          2.5|      0.9500000000000002|\n",
       "|2012-11-01 00:00:00|                 4.5|         5.53|          6.5|              null|          2.5|      1.0300000000000002|\n",
       "|2012-12-01 00:00:00|                 4.5|         5.84|          6.5|              null|          2.5|      1.3399999999999999|\n",
       "|2013-01-01 00:00:00|                 4.5|         6.15|          6.5|              null|          2.5|      1.6500000000000004|\n",
       "|2013-02-01 00:00:00|                 4.5|         6.31|          6.5|              null|          2.5|      1.8099999999999996|\n",
       "|2013-03-01 00:00:00|                 4.5|         6.59|          6.5|              null|          2.5|                    2.09|\n",
       "|2013-04-01 00:00:00|                 4.5|         6.49|          6.5|              null|          2.5|      1.9900000000000002|\n",
       "|2013-05-01 00:00:00|                 4.5|          6.5|          6.5|              null|          2.5|                     2.0|\n",
       "|2013-06-01 00:00:00|                 4.5|          6.7|          6.5|              null|          2.5|                     2.2|\n",
       "|2013-07-01 00:00:00|                 4.5|         6.27|          6.5|              null|          2.5|      1.7699999999999996|\n",
       "|2013-08-01 00:00:00|                 4.5|         6.09|          6.5|              null|          2.5|      1.5899999999999999|\n",
       "|2013-09-01 00:00:00|                 4.5|         5.86|          6.5|              null|          2.5|      1.3600000000000003|\n",
       "|2013-10-01 00:00:00|                 4.5|         5.84|          6.5|              null|          2.5|      1.3399999999999999|\n",
       "|2013-11-01 00:00:00|                 4.5|         5.77|          6.5|              null|          2.5|      1.2699999999999996|\n",
       "|2013-12-01 00:00:00|                 4.5|         5.91|          6.5|              null|          2.5|      1.4100000000000001|\n",
       "|2014-01-01 00:00:00|                 4.5|         5.59|          6.5|              null|          2.5|      1.0899999999999999|\n",
       "|2014-02-01 00:00:00|                 4.5|         5.68|          6.5|              null|          2.5|      1.1799999999999997|\n",
       "+-------------------+--------------------+-------------+-------------+------------------+-------------+------------------------+\n",
       "only showing top 20 rows\n",
       "\n"
      ]
     },
     "metadata": {
      "application/vnd.databricks.v1+output": {
       "addedWidgets": {},
       "arguments": {},
       "data": "+-------------------+--------------------+-------------+-------------+------------------+-------------+------------------------+\n|           DateTime|meta_para_a_inflacao|IPCA_ocorrido|limite_maximo|focus_mais_recente|limite_minimo|dif_meta_e_ipca_ocorrido|\n+-------------------+--------------------+-------------+-------------+------------------+-------------+------------------------+\n|2012-07-01 00:00:00|                 4.5|          5.2|          6.5|              null|          2.5|      0.7000000000000002|\n|2012-08-01 00:00:00|                 4.5|         5.24|          6.5|              null|          2.5|      0.7400000000000002|\n|2012-09-01 00:00:00|                 4.5|         5.28|          6.5|              null|          2.5|      0.7800000000000002|\n|2012-10-01 00:00:00|                 4.5|         5.45|          6.5|              null|          2.5|      0.9500000000000002|\n|2012-11-01 00:00:00|                 4.5|         5.53|          6.5|              null|          2.5|      1.0300000000000002|\n|2012-12-01 00:00:00|                 4.5|         5.84|          6.5|              null|          2.5|      1.3399999999999999|\n|2013-01-01 00:00:00|                 4.5|         6.15|          6.5|              null|          2.5|      1.6500000000000004|\n|2013-02-01 00:00:00|                 4.5|         6.31|          6.5|              null|          2.5|      1.8099999999999996|\n|2013-03-01 00:00:00|                 4.5|         6.59|          6.5|              null|          2.5|                    2.09|\n|2013-04-01 00:00:00|                 4.5|         6.49|          6.5|              null|          2.5|      1.9900000000000002|\n|2013-05-01 00:00:00|                 4.5|          6.5|          6.5|              null|          2.5|                     2.0|\n|2013-06-01 00:00:00|                 4.5|          6.7|          6.5|              null|          2.5|                     2.2|\n|2013-07-01 00:00:00|                 4.5|         6.27|          6.5|              null|          2.5|      1.7699999999999996|\n|2013-08-01 00:00:00|                 4.5|         6.09|          6.5|              null|          2.5|      1.5899999999999999|\n|2013-09-01 00:00:00|                 4.5|         5.86|          6.5|              null|          2.5|      1.3600000000000003|\n|2013-10-01 00:00:00|                 4.5|         5.84|          6.5|              null|          2.5|      1.3399999999999999|\n|2013-11-01 00:00:00|                 4.5|         5.77|          6.5|              null|          2.5|      1.2699999999999996|\n|2013-12-01 00:00:00|                 4.5|         5.91|          6.5|              null|          2.5|      1.4100000000000001|\n|2014-01-01 00:00:00|                 4.5|         5.59|          6.5|              null|          2.5|      1.0899999999999999|\n|2014-02-01 00:00:00|                 4.5|         5.68|          6.5|              null|          2.5|      1.1799999999999997|\n+-------------------+--------------------+-------------+-------------+------------------+-------------+------------------------+\nonly showing top 20 rows\n\n",
       "datasetInfos": [],
       "metadata": {},
       "removedWidgets": [],
       "type": "ansi"
      }
     },
     "output_type": "display_data"
    }
   ],
   "source": [
    "df_novo = df.withColumn('dif_meta_e_ipca_ocorrido', df['IPCA_ocorrido']-df['meta_para_a_inflacao'])\n",
    "df_novo.show()"
   ]
  },
  {
   "cell_type": "markdown",
   "metadata": {
    "application/vnd.databricks.v1+cell": {
     "inputWidgets": {},
     "nuid": "40e79f59-1c5b-4848-9f92-103e7aceafd0",
     "showTitle": false,
     "title": ""
    }
   },
   "source": [
    "### Podemos utilizar a sintaxe SQL para escrever no PySpark:\n",
    "`.createOrReplaceTempView`: Para criar uma tabela temporária"
   ]
  },
  {
   "cell_type": "code",
   "execution_count": 0,
   "metadata": {
    "application/vnd.databricks.v1+cell": {
     "inputWidgets": {},
     "nuid": "b59701b5-252a-44c7-a5e8-d8bd175e33e8",
     "showTitle": false,
     "title": ""
    }
   },
   "outputs": [],
   "source": [
    "# Vamos criar um tabela temporaria\n",
    "df_novo.createOrReplaceTempView('tabela_df_novo')"
   ]
  },
  {
   "cell_type": "code",
   "execution_count": 0,
   "metadata": {
    "application/vnd.databricks.v1+cell": {
     "inputWidgets": {},
     "nuid": "f8167ee0-1f60-4074-9ffd-181637757b3f",
     "showTitle": false,
     "title": ""
    }
   },
   "outputs": [
    {
     "data": {
      "text/plain": [
       "+-------------------+--------------------+-------------+-------------+------------------+-------------+------------------------+\n",
       "|           DateTime|meta_para_a_inflacao|IPCA_ocorrido|limite_maximo|focus_mais_recente|limite_minimo|dif_meta_e_ipca_ocorrido|\n",
       "+-------------------+--------------------+-------------+-------------+------------------+-------------+------------------------+\n",
       "|2012-07-01 00:00:00|                 4.5|          5.2|          6.5|              null|          2.5|      0.7000000000000002|\n",
       "|2012-08-01 00:00:00|                 4.5|         5.24|          6.5|              null|          2.5|      0.7400000000000002|\n",
       "|2012-09-01 00:00:00|                 4.5|         5.28|          6.5|              null|          2.5|      0.7800000000000002|\n",
       "|2012-10-01 00:00:00|                 4.5|         5.45|          6.5|              null|          2.5|      0.9500000000000002|\n",
       "|2012-11-01 00:00:00|                 4.5|         5.53|          6.5|              null|          2.5|      1.0300000000000002|\n",
       "|2012-12-01 00:00:00|                 4.5|         5.84|          6.5|              null|          2.5|      1.3399999999999999|\n",
       "|2013-01-01 00:00:00|                 4.5|         6.15|          6.5|              null|          2.5|      1.6500000000000004|\n",
       "|2013-02-01 00:00:00|                 4.5|         6.31|          6.5|              null|          2.5|      1.8099999999999996|\n",
       "|2013-03-01 00:00:00|                 4.5|         6.59|          6.5|              null|          2.5|                    2.09|\n",
       "|2013-04-01 00:00:00|                 4.5|         6.49|          6.5|              null|          2.5|      1.9900000000000002|\n",
       "|2013-05-01 00:00:00|                 4.5|          6.5|          6.5|              null|          2.5|                     2.0|\n",
       "|2013-06-01 00:00:00|                 4.5|          6.7|          6.5|              null|          2.5|                     2.2|\n",
       "|2013-07-01 00:00:00|                 4.5|         6.27|          6.5|              null|          2.5|      1.7699999999999996|\n",
       "|2013-08-01 00:00:00|                 4.5|         6.09|          6.5|              null|          2.5|      1.5899999999999999|\n",
       "|2013-09-01 00:00:00|                 4.5|         5.86|          6.5|              null|          2.5|      1.3600000000000003|\n",
       "|2013-10-01 00:00:00|                 4.5|         5.84|          6.5|              null|          2.5|      1.3399999999999999|\n",
       "|2013-11-01 00:00:00|                 4.5|         5.77|          6.5|              null|          2.5|      1.2699999999999996|\n",
       "|2013-12-01 00:00:00|                 4.5|         5.91|          6.5|              null|          2.5|      1.4100000000000001|\n",
       "|2014-01-01 00:00:00|                 4.5|         5.59|          6.5|              null|          2.5|      1.0899999999999999|\n",
       "|2014-02-01 00:00:00|                 4.5|         5.68|          6.5|              null|          2.5|      1.1799999999999997|\n",
       "+-------------------+--------------------+-------------+-------------+------------------+-------------+------------------------+\n",
       "only showing top 20 rows\n",
       "\n"
      ]
     },
     "metadata": {
      "application/vnd.databricks.v1+output": {
       "addedWidgets": {},
       "arguments": {},
       "data": "+-------------------+--------------------+-------------+-------------+------------------+-------------+------------------------+\n|           DateTime|meta_para_a_inflacao|IPCA_ocorrido|limite_maximo|focus_mais_recente|limite_minimo|dif_meta_e_ipca_ocorrido|\n+-------------------+--------------------+-------------+-------------+------------------+-------------+------------------------+\n|2012-07-01 00:00:00|                 4.5|          5.2|          6.5|              null|          2.5|      0.7000000000000002|\n|2012-08-01 00:00:00|                 4.5|         5.24|          6.5|              null|          2.5|      0.7400000000000002|\n|2012-09-01 00:00:00|                 4.5|         5.28|          6.5|              null|          2.5|      0.7800000000000002|\n|2012-10-01 00:00:00|                 4.5|         5.45|          6.5|              null|          2.5|      0.9500000000000002|\n|2012-11-01 00:00:00|                 4.5|         5.53|          6.5|              null|          2.5|      1.0300000000000002|\n|2012-12-01 00:00:00|                 4.5|         5.84|          6.5|              null|          2.5|      1.3399999999999999|\n|2013-01-01 00:00:00|                 4.5|         6.15|          6.5|              null|          2.5|      1.6500000000000004|\n|2013-02-01 00:00:00|                 4.5|         6.31|          6.5|              null|          2.5|      1.8099999999999996|\n|2013-03-01 00:00:00|                 4.5|         6.59|          6.5|              null|          2.5|                    2.09|\n|2013-04-01 00:00:00|                 4.5|         6.49|          6.5|              null|          2.5|      1.9900000000000002|\n|2013-05-01 00:00:00|                 4.5|          6.5|          6.5|              null|          2.5|                     2.0|\n|2013-06-01 00:00:00|                 4.5|          6.7|          6.5|              null|          2.5|                     2.2|\n|2013-07-01 00:00:00|                 4.5|         6.27|          6.5|              null|          2.5|      1.7699999999999996|\n|2013-08-01 00:00:00|                 4.5|         6.09|          6.5|              null|          2.5|      1.5899999999999999|\n|2013-09-01 00:00:00|                 4.5|         5.86|          6.5|              null|          2.5|      1.3600000000000003|\n|2013-10-01 00:00:00|                 4.5|         5.84|          6.5|              null|          2.5|      1.3399999999999999|\n|2013-11-01 00:00:00|                 4.5|         5.77|          6.5|              null|          2.5|      1.2699999999999996|\n|2013-12-01 00:00:00|                 4.5|         5.91|          6.5|              null|          2.5|      1.4100000000000001|\n|2014-01-01 00:00:00|                 4.5|         5.59|          6.5|              null|          2.5|      1.0899999999999999|\n|2014-02-01 00:00:00|                 4.5|         5.68|          6.5|              null|          2.5|      1.1799999999999997|\n+-------------------+--------------------+-------------+-------------+------------------+-------------+------------------------+\nonly showing top 20 rows\n\n",
       "datasetInfos": [],
       "metadata": {},
       "removedWidgets": [],
       "type": "ansi"
      }
     },
     "output_type": "display_data"
    }
   ],
   "source": [
    "# Fazendo uma Query no PySpark:\n",
    "spark.sql('SELECT * FROM tabela_df_novo').show()"
   ]
  },
  {
   "cell_type": "code",
   "execution_count": 0,
   "metadata": {
    "application/vnd.databricks.v1+cell": {
     "inputWidgets": {},
     "nuid": "cc693938-512a-498b-8b4e-6d49dcbb2087",
     "showTitle": false,
     "title": ""
    }
   },
   "outputs": [
    {
     "data": {
      "text/plain": [
       "+-------------------+--------------------+-------------+-------------+------------------+-------------+------------------------+\n",
       "|           DateTime|meta_para_a_inflacao|IPCA_ocorrido|limite_maximo|focus_mais_recente|limite_minimo|dif_meta_e_ipca_ocorrido|\n",
       "+-------------------+--------------------+-------------+-------------+------------------+-------------+------------------------+\n",
       "|2017-04-01 00:00:00|                 4.5|         4.08|          6.0|              null|          3.0|    -0.41999999999999993|\n",
       "|2017-05-01 00:00:00|                 4.5|          3.6|          6.0|              null|          3.0|     -0.8999999999999999|\n",
       "|2017-06-01 00:00:00|                 4.5|          3.0|          6.0|              null|          3.0|                    -1.5|\n",
       "|2017-07-01 00:00:00|                 4.5|         2.71|          6.0|              null|          3.0|                   -1.79|\n",
       "|2017-08-01 00:00:00|                 4.5|         2.46|          6.0|              null|          3.0|                   -2.04|\n",
       "|2017-09-01 00:00:00|                 4.5|         2.54|          6.0|              null|          3.0|                   -1.96|\n",
       "|2017-10-01 00:00:00|                 4.5|          2.7|          6.0|              null|          3.0|     -1.7999999999999998|\n",
       "|2017-11-01 00:00:00|                 4.5|          2.8|          6.0|              null|          3.0|     -1.7000000000000002|\n",
       "|2017-12-01 00:00:00|                 4.5|         2.95|          6.0|              null|          3.0|     -1.5499999999999998|\n",
       "|2018-01-01 00:00:00|                 4.5|         2.86|          6.0|              null|          3.0|     -1.6400000000000001|\n",
       "|2018-02-01 00:00:00|                 4.5|         2.84|          6.0|              null|          3.0|     -1.6600000000000001|\n",
       "|2018-03-01 00:00:00|                 4.5|         2.68|          6.0|              null|          3.0|     -1.8199999999999998|\n",
       "|2018-04-01 00:00:00|                 4.5|         2.76|          6.0|              null|          3.0|     -1.7400000000000002|\n",
       "|2018-05-01 00:00:00|                 4.5|         2.86|          6.0|              null|          3.0|     -1.6400000000000001|\n",
       "|2018-06-01 00:00:00|                 4.5|         4.39|          6.0|              null|          3.0|    -0.11000000000000032|\n",
       "|2018-07-01 00:00:00|                 4.5|         4.48|          6.0|              null|          3.0|    -0.01999999999999...|\n",
       "|2018-08-01 00:00:00|                 4.5|         4.19|          6.0|              null|          3.0|     -0.3099999999999996|\n",
       "|2018-11-01 00:00:00|                 4.5|         4.05|          6.0|              null|          3.0|     -0.4500000000000002|\n",
       "|2018-12-01 00:00:00|                 4.5|         3.75|          6.0|              null|          3.0|                   -0.75|\n",
       "|2019-01-01 00:00:00|                4.25|         3.78|         5.75|              null|         2.75|     -0.4700000000000002|\n",
       "+-------------------+--------------------+-------------+-------------+------------------+-------------+------------------------+\n",
       "only showing top 20 rows\n",
       "\n"
      ]
     },
     "metadata": {
      "application/vnd.databricks.v1+output": {
       "addedWidgets": {},
       "arguments": {},
       "data": "+-------------------+--------------------+-------------+-------------+------------------+-------------+------------------------+\n|           DateTime|meta_para_a_inflacao|IPCA_ocorrido|limite_maximo|focus_mais_recente|limite_minimo|dif_meta_e_ipca_ocorrido|\n+-------------------+--------------------+-------------+-------------+------------------+-------------+------------------------+\n|2017-04-01 00:00:00|                 4.5|         4.08|          6.0|              null|          3.0|    -0.41999999999999993|\n|2017-05-01 00:00:00|                 4.5|          3.6|          6.0|              null|          3.0|     -0.8999999999999999|\n|2017-06-01 00:00:00|                 4.5|          3.0|          6.0|              null|          3.0|                    -1.5|\n|2017-07-01 00:00:00|                 4.5|         2.71|          6.0|              null|          3.0|                   -1.79|\n|2017-08-01 00:00:00|                 4.5|         2.46|          6.0|              null|          3.0|                   -2.04|\n|2017-09-01 00:00:00|                 4.5|         2.54|          6.0|              null|          3.0|                   -1.96|\n|2017-10-01 00:00:00|                 4.5|          2.7|          6.0|              null|          3.0|     -1.7999999999999998|\n|2017-11-01 00:00:00|                 4.5|          2.8|          6.0|              null|          3.0|     -1.7000000000000002|\n|2017-12-01 00:00:00|                 4.5|         2.95|          6.0|              null|          3.0|     -1.5499999999999998|\n|2018-01-01 00:00:00|                 4.5|         2.86|          6.0|              null|          3.0|     -1.6400000000000001|\n|2018-02-01 00:00:00|                 4.5|         2.84|          6.0|              null|          3.0|     -1.6600000000000001|\n|2018-03-01 00:00:00|                 4.5|         2.68|          6.0|              null|          3.0|     -1.8199999999999998|\n|2018-04-01 00:00:00|                 4.5|         2.76|          6.0|              null|          3.0|     -1.7400000000000002|\n|2018-05-01 00:00:00|                 4.5|         2.86|          6.0|              null|          3.0|     -1.6400000000000001|\n|2018-06-01 00:00:00|                 4.5|         4.39|          6.0|              null|          3.0|    -0.11000000000000032|\n|2018-07-01 00:00:00|                 4.5|         4.48|          6.0|              null|          3.0|    -0.01999999999999...|\n|2018-08-01 00:00:00|                 4.5|         4.19|          6.0|              null|          3.0|     -0.3099999999999996|\n|2018-11-01 00:00:00|                 4.5|         4.05|          6.0|              null|          3.0|     -0.4500000000000002|\n|2018-12-01 00:00:00|                 4.5|         3.75|          6.0|              null|          3.0|                   -0.75|\n|2019-01-01 00:00:00|                4.25|         3.78|         5.75|              null|         2.75|     -0.4700000000000002|\n+-------------------+--------------------+-------------+-------------+------------------+-------------+------------------------+\nonly showing top 20 rows\n\n",
       "datasetInfos": [],
       "metadata": {},
       "removedWidgets": [],
       "type": "ansi"
      }
     },
     "output_type": "display_data"
    }
   ],
   "source": [
    "# Fazendo uma Query no PySpark 2:\n",
    "spark.sql('SELECT * FROM tabela_df_novo WHERE dif_meta_e_ipca_ocorrido < 0').show()"
   ]
  },
  {
   "cell_type": "markdown",
   "metadata": {
    "application/vnd.databricks.v1+cell": {
     "inputWidgets": {},
     "nuid": "b779728c-59f1-4870-8693-b2a4b419a967",
     "showTitle": false,
     "title": ""
    }
   },
   "source": [
    "### Como converter dataframe do spark para um dataframe no pandas.\n",
    "`.toPandas()`: Para passar um arquivo para Pandas\n",
    "\n",
    "`spark.createDataFrame()`: Passamos como argumento o dataframe"
   ]
  },
  {
   "cell_type": "code",
   "execution_count": 0,
   "metadata": {
    "application/vnd.databricks.v1+cell": {
     "inputWidgets": {},
     "nuid": "b97c74f8-7aa7-4e17-95b5-01a40df40b2c",
     "showTitle": false,
     "title": ""
    }
   },
   "outputs": [
    {
     "data": {
      "text/plain": [
       "Out[31]: pandas.core.frame.DataFrame"
      ]
     },
     "metadata": {
      "application/vnd.databricks.v1+output": {
       "addedWidgets": {},
       "arguments": {},
       "data": "Out[31]: pandas.core.frame.DataFrame",
       "datasetInfos": [],
       "metadata": {},
       "removedWidgets": [],
       "type": "ansi"
      }
     },
     "output_type": "display_data"
    }
   ],
   "source": [
    "df_pandas = df_novo.toPandas()\n",
    "type(df_pandas)"
   ]
  },
  {
   "cell_type": "code",
   "execution_count": 0,
   "metadata": {
    "application/vnd.databricks.v1+cell": {
     "inputWidgets": {},
     "nuid": "20827b49-a825-4bd7-9fc5-111c586589a0",
     "showTitle": false,
     "title": ""
    }
   },
   "outputs": [],
   "source": [
    "df_novo_novo = spark.createDataFrame(df_pandas)"
   ]
  },
  {
   "cell_type": "code",
   "execution_count": 0,
   "metadata": {
    "application/vnd.databricks.v1+cell": {
     "inputWidgets": {},
     "nuid": "a546ef6f-c36c-4dc9-a598-684419173da8",
     "showTitle": false,
     "title": ""
    }
   },
   "outputs": [
    {
     "data": {
      "text/plain": [
       "+-------------------+--------------------+-------------+-------------+------------------+-------------+------------------------+\n",
       "|           DateTime|meta_para_a_inflacao|IPCA_ocorrido|limite_maximo|focus_mais_recente|limite_minimo|dif_meta_e_ipca_ocorrido|\n",
       "+-------------------+--------------------+-------------+-------------+------------------+-------------+------------------------+\n",
       "|2012-07-01 00:00:00|                 4.5|          5.2|          6.5|              null|          2.5|      0.7000000000000002|\n",
       "|2012-08-01 00:00:00|                 4.5|         5.24|          6.5|              null|          2.5|      0.7400000000000002|\n",
       "|2012-09-01 00:00:00|                 4.5|         5.28|          6.5|              null|          2.5|      0.7800000000000002|\n",
       "|2012-10-01 00:00:00|                 4.5|         5.45|          6.5|              null|          2.5|      0.9500000000000002|\n",
       "|2012-11-01 00:00:00|                 4.5|         5.53|          6.5|              null|          2.5|      1.0300000000000002|\n",
       "|2012-12-01 00:00:00|                 4.5|         5.84|          6.5|              null|          2.5|      1.3399999999999999|\n",
       "|2013-01-01 00:00:00|                 4.5|         6.15|          6.5|              null|          2.5|      1.6500000000000004|\n",
       "|2013-02-01 00:00:00|                 4.5|         6.31|          6.5|              null|          2.5|      1.8099999999999996|\n",
       "|2013-03-01 00:00:00|                 4.5|         6.59|          6.5|              null|          2.5|                    2.09|\n",
       "|2013-04-01 00:00:00|                 4.5|         6.49|          6.5|              null|          2.5|      1.9900000000000002|\n",
       "|2013-05-01 00:00:00|                 4.5|          6.5|          6.5|              null|          2.5|                     2.0|\n",
       "|2013-06-01 00:00:00|                 4.5|          6.7|          6.5|              null|          2.5|                     2.2|\n",
       "|2013-07-01 00:00:00|                 4.5|         6.27|          6.5|              null|          2.5|      1.7699999999999996|\n",
       "|2013-08-01 00:00:00|                 4.5|         6.09|          6.5|              null|          2.5|      1.5899999999999999|\n",
       "|2013-09-01 00:00:00|                 4.5|         5.86|          6.5|              null|          2.5|      1.3600000000000003|\n",
       "|2013-10-01 00:00:00|                 4.5|         5.84|          6.5|              null|          2.5|      1.3399999999999999|\n",
       "|2013-11-01 00:00:00|                 4.5|         5.77|          6.5|              null|          2.5|      1.2699999999999996|\n",
       "|2013-12-01 00:00:00|                 4.5|         5.91|          6.5|              null|          2.5|      1.4100000000000001|\n",
       "|2014-01-01 00:00:00|                 4.5|         5.59|          6.5|              null|          2.5|      1.0899999999999999|\n",
       "|2014-02-01 00:00:00|                 4.5|         5.68|          6.5|              null|          2.5|      1.1799999999999997|\n",
       "+-------------------+--------------------+-------------+-------------+------------------+-------------+------------------------+\n",
       "only showing top 20 rows\n",
       "\n"
      ]
     },
     "metadata": {
      "application/vnd.databricks.v1+output": {
       "addedWidgets": {},
       "arguments": {},
       "data": "+-------------------+--------------------+-------------+-------------+------------------+-------------+------------------------+\n|           DateTime|meta_para_a_inflacao|IPCA_ocorrido|limite_maximo|focus_mais_recente|limite_minimo|dif_meta_e_ipca_ocorrido|\n+-------------------+--------------------+-------------+-------------+------------------+-------------+------------------------+\n|2012-07-01 00:00:00|                 4.5|          5.2|          6.5|              null|          2.5|      0.7000000000000002|\n|2012-08-01 00:00:00|                 4.5|         5.24|          6.5|              null|          2.5|      0.7400000000000002|\n|2012-09-01 00:00:00|                 4.5|         5.28|          6.5|              null|          2.5|      0.7800000000000002|\n|2012-10-01 00:00:00|                 4.5|         5.45|          6.5|              null|          2.5|      0.9500000000000002|\n|2012-11-01 00:00:00|                 4.5|         5.53|          6.5|              null|          2.5|      1.0300000000000002|\n|2012-12-01 00:00:00|                 4.5|         5.84|          6.5|              null|          2.5|      1.3399999999999999|\n|2013-01-01 00:00:00|                 4.5|         6.15|          6.5|              null|          2.5|      1.6500000000000004|\n|2013-02-01 00:00:00|                 4.5|         6.31|          6.5|              null|          2.5|      1.8099999999999996|\n|2013-03-01 00:00:00|                 4.5|         6.59|          6.5|              null|          2.5|                    2.09|\n|2013-04-01 00:00:00|                 4.5|         6.49|          6.5|              null|          2.5|      1.9900000000000002|\n|2013-05-01 00:00:00|                 4.5|          6.5|          6.5|              null|          2.5|                     2.0|\n|2013-06-01 00:00:00|                 4.5|          6.7|          6.5|              null|          2.5|                     2.2|\n|2013-07-01 00:00:00|                 4.5|         6.27|          6.5|              null|          2.5|      1.7699999999999996|\n|2013-08-01 00:00:00|                 4.5|         6.09|          6.5|              null|          2.5|      1.5899999999999999|\n|2013-09-01 00:00:00|                 4.5|         5.86|          6.5|              null|          2.5|      1.3600000000000003|\n|2013-10-01 00:00:00|                 4.5|         5.84|          6.5|              null|          2.5|      1.3399999999999999|\n|2013-11-01 00:00:00|                 4.5|         5.77|          6.5|              null|          2.5|      1.2699999999999996|\n|2013-12-01 00:00:00|                 4.5|         5.91|          6.5|              null|          2.5|      1.4100000000000001|\n|2014-01-01 00:00:00|                 4.5|         5.59|          6.5|              null|          2.5|      1.0899999999999999|\n|2014-02-01 00:00:00|                 4.5|         5.68|          6.5|              null|          2.5|      1.1799999999999997|\n+-------------------+--------------------+-------------+-------------+------------------+-------------+------------------------+\nonly showing top 20 rows\n\n",
       "datasetInfos": [],
       "metadata": {},
       "removedWidgets": [],
       "type": "ansi"
      }
     },
     "output_type": "display_data"
    }
   ],
   "source": [
    "df_novo_novo.show()"
   ]
  }
 ],
 "metadata": {
  "application/vnd.databricks.v1+notebook": {
   "dashboards": [],
   "language": "python",
   "notebookMetadata": {
    "pythonIndentUnit": 4
   },
   "notebookName": "pyspark_aula_1",
   "notebookOrigID": 150230631582178,
   "widgets": {}
  },
  "kernelspec": {
   "display_name": "Python 3 (ipykernel)",
   "language": "python",
   "name": "python3"
  },
  "language_info": {
   "codemirror_mode": {
    "name": "ipython",
    "version": 3
   },
   "file_extension": ".py",
   "mimetype": "text/x-python",
   "name": "python",
   "nbconvert_exporter": "python",
   "pygments_lexer": "ipython3",
   "version": "3.10.4"
  }
 },
 "nbformat": 4,
 "nbformat_minor": 1
}
